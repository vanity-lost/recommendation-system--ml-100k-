{
 "cells": [
  {
   "cell_type": "code",
   "execution_count": 1,
   "metadata": {},
   "outputs": [],
   "source": [
    "from surprise.prediction_algorithms import NormalPredictor, SVD, NMF\n",
    "from surprise import Dataset, Reader\n",
    "from surprise.model_selection import GridSearchCV, cross_validate, KFold as KFold_sp\n",
    "\n",
    "import pandas as pd\n",
    "import numpy as np\n",
    "import matplotlib.pyplot as plt\n",
    "\n",
    "import tensorflow as tf\n",
    "from keras.layers import Input, Embedding, Flatten, Dropout, Dense, Concatenate, Lambda\n",
    "from keras.models import Model\n",
    "from keras import callbacks\n",
    "from keras.regularizers import l2\n",
    "\n",
    "from sklearn.preprocessing import LabelEncoder\n",
    "from sklearn.metrics import mean_squared_error as mse\n",
    "from sklearn.model_selection import cross_validate as cv_sk, KFold as KFold_sk, train_test_split as tts_sk\n",
    "from sklearn.neighbors import KNeighborsRegressor as KNN\n",
    "\n",
    "from sentence_transformers import SentenceTransformer\n",
    "roberta = SentenceTransformer('stsb-roberta-large')"
   ]
  },
  {
   "cell_type": "code",
   "execution_count": 2,
   "metadata": {},
   "outputs": [],
   "source": [
    "ratings_df = pd.read_csv('ratings.csv')\n",
    "ratings_df = ratings_df.drop(ratings_df.columns[-1], axis=1)\n",
    "\n",
    "tags = pd.read_csv('tags.csv')\n",
    "tags = tags.drop(tags.columns[-1], axis=1)\n",
    "\n",
    "ratings = Dataset.load_from_df(ratings_df, Reader(rating_scale=(1, 5)))\n",
    "kf_sp = KFold_sp(n_splits=5, shuffle=False)\n",
    "\n",
    "ratings_mat = ratings_df.to_numpy()\n",
    "kf_sk = KFold_sk(n_splits=5, shuffle=False)"
   ]
  },
  {
   "cell_type": "markdown",
   "metadata": {},
   "source": [
    "# 1. Random Guess"
   ]
  },
  {
   "cell_type": "code",
   "execution_count": 3,
   "metadata": {},
   "outputs": [
    {
     "name": "stdout",
     "output_type": "stream",
     "text": [
      "[1.44330023 1.44180732 1.43211356 1.44325156 1.41702366]\n"
     ]
    }
   ],
   "source": [
    "# No hyperparameter needed to fine-tune\n",
    "rp = NormalPredictor()\n",
    "rp_res = cross_validate(rp, ratings, measures=['RMSE'], cv=kf_sp, n_jobs=-1)['test_rmse']\n",
    "print(rp_res)"
   ]
  },
  {
   "cell_type": "markdown",
   "metadata": {},
   "source": [
    "# 2. KNN"
   ]
  },
  {
   "cell_type": "code",
   "execution_count": 3,
   "metadata": {},
   "outputs": [],
   "source": [
    "# tag_ratings = ratings_df.merge(tags, on=['userId', 'movieId'], how='left') \\\n",
    "#   .drop_duplicates(subset=['userId', 'movieId']).fillna('').reset_index(drop=True)\n",
    "# vecs = roberta.encode(tag_ratings.iloc[:, -1])\n",
    "# np.save('encodedText', vecs)\n",
    "\n",
    "vecs = np.load('encodedText.npy')"
   ]
  },
  {
   "cell_type": "code",
   "execution_count": 4,
   "metadata": {},
   "outputs": [
    {
     "data": {
      "image/png": "[encoded data removed]",
      "text/plain": [
       "<Figure size 432x288 with 1 Axes>"
      ]
     },
     "metadata": {
      "needs_background": "light"
     },
     "output_type": "display_data"
    },
    {
     "name": "stdout",
     "output_type": "stream",
     "text": [
      "the highest R^2 is at k=6\n"
     ]
    }
   ],
   "source": [
    "# Need to fine-tune the number of neighbor (k)\n",
    "res = []\n",
    "k = range(3, 40, 1)\n",
    "\n",
    "X_train, X_test = tts_sk(vecs, test_size=.25, shuffle=False)\n",
    "train_data, test_data = tts_sk(ratings_mat, test_size=.25, shuffle=False)\n",
    "for i in k:\n",
    "    knn = KNN(n_neighbors=i, n_jobs=-1)\n",
    "    res.append(knn.fit(X_train, train_data[:, -1]).score(X_test, test_data[:, -1]))\n",
    "\n",
    "plt.plot(k, res)\n",
    "plt.xlabel('K')\n",
    "plt.ylabel('R^2')\n",
    "plt.show()\n",
    "print(f'the highest R^2 is at k={k[res.index(max(res))]}')"
   ]
  },
  {
   "cell_type": "markdown",
   "metadata": {},
   "source": [
    "# 3. Non-negative matrix factorization"
   ]
  },
  {
   "cell_type": "code",
   "execution_count": 15,
   "metadata": {},
   "outputs": [
    {
     "name": "stdout",
     "output_type": "stream",
     "text": [
      "1.056567451480814 {'n_factors': 17}\n"
     ]
    }
   ],
   "source": [
    "# Need to fine-tune the number of factors, and epoch number\n",
    "param_grid = {'n_factors': range(10, 20, 1)}\n",
    "\n",
    "gs = GridSearchCV(NMF, param_grid, cv=kf_sp, measures=['rmse'], n_jobs=-1)\n",
    "gs.fit(ratings)\n",
    "\n",
    "print(gs.best_score['rmse'], gs.best_params['rmse'])"
   ]
  },
  {
   "cell_type": "code",
   "execution_count": 17,
   "metadata": {},
   "outputs": [
    {
     "name": "stdout",
     "output_type": "stream",
     "text": [
      "1.0567111132222702 {'n_epochs': 30}\n"
     ]
    }
   ],
   "source": [
    "param_grid = {'n_epochs': range(20, 100, 10)}\n",
    "\n",
    "gs = GridSearchCV(NMF, param_grid, cv=kf_sp, measures=['rmse'], n_jobs=-1)\n",
    "gs.fit(ratings)\n",
    "\n",
    "print(gs.best_score['rmse'], gs.best_params['rmse'])"
   ]
  },
  {
   "cell_type": "code",
   "execution_count": 18,
   "metadata": {},
   "outputs": [
    {
     "data": {
      "text/plain": [
       "array([1.0624212 , 1.06406225, 1.05011606, 1.07601778, 1.03480466])"
      ]
     },
     "execution_count": 18,
     "metadata": {},
     "output_type": "execute_result"
    }
   ],
   "source": [
    "nmf = NMF(n_factors=17, random_state=12345, n_epochs=30)\n",
    "nmf_res = cross_validate(nmf, ratings, measures=['RMSE'], cv=kf_sp, n_jobs=-1)['test_rmse']\n",
    "nmf_res"
   ]
  },
  {
   "cell_type": "markdown",
   "metadata": {},
   "source": [
    "# 4. Singular Value Decomposition"
   ]
  },
  {
   "cell_type": "code",
   "execution_count": 21,
   "metadata": {},
   "outputs": [
    {
     "name": "stdout",
     "output_type": "stream",
     "text": [
      "0.9829946083734262 {'n_factors': 7}\n"
     ]
    }
   ],
   "source": [
    "# Need to fine-tune the number of factors, and epoch number\n",
    "param_grid = {'n_factors': range(5, 15, 1)}\n",
    "\n",
    "gs = GridSearchCV(SVD, param_grid, cv=kf_sp, measures=['rmse'], n_jobs=-1)\n",
    "gs.fit(ratings)\n",
    "\n",
    "print(gs.best_score['rmse'], gs.best_params['rmse'])"
   ]
  },
  {
   "cell_type": "code",
   "execution_count": 25,
   "metadata": {},
   "outputs": [
    {
     "name": "stdout",
     "output_type": "stream",
     "text": [
      "0.9771587866052149 {'n_epochs': 550}\n"
     ]
    }
   ],
   "source": [
    "param_grid = {'n_epochs': range(50, 551, 100)}\n",
    "\n",
    "gs = GridSearchCV(SVD, param_grid, cv=kf_sp, measures=['rmse'], n_jobs=-1)\n",
    "gs.fit(ratings)\n",
    "\n",
    "print(gs.best_score['rmse'], gs.best_params['rmse'])"
   ]
  },
  {
   "cell_type": "code",
   "execution_count": 26,
   "metadata": {},
   "outputs": [
    {
     "data": {
      "text/plain": [
       "array([1.00215502, 0.9937079 , 0.97379273, 0.99905977, 0.97010309])"
      ]
     },
     "execution_count": 26,
     "metadata": {},
     "output_type": "execute_result"
    }
   ],
   "source": [
    "svd = SVD(n_factors=7, n_epochs=550, random_state=12345)\n",
    "svd_res = cross_validate(svd, ratings, measures=['RMSE'], cv=kf_sp, n_jobs=-1)['test_rmse']\n",
    "svd_res"
   ]
  },
  {
   "cell_type": "markdown",
   "metadata": {},
   "source": [
    "# 5. Neural Network"
   ]
  },
  {
   "cell_type": "code",
   "execution_count": 4,
   "metadata": {},
   "outputs": [],
   "source": [
    "temp_df = pd.DataFrame()\n",
    "user_enc = LabelEncoder()\n",
    "temp_df['user'] = user_enc.fit_transform(ratings_df['userId'].values)\n",
    "item_enc = LabelEncoder()\n",
    "temp_df['movie'] = item_enc.fit_transform(ratings_df['movieId'].values)\n",
    "temp_df['rating'] = ratings_df['rating'].values.astype(np.float32)\n",
    "\n",
    "n_users = temp_df['user'].nunique()\n",
    "n_movies = temp_df['movie'].nunique()\n",
    "min_rating = min(temp_df['rating'])\n",
    "max_rating = max(temp_df['rating'])\n",
    "\n",
    "temp = temp_df.to_numpy()"
   ]
  },
  {
   "cell_type": "code",
   "execution_count": 4,
   "metadata": {},
   "outputs": [],
   "source": [
    "def build_model(factors):\n",
    "    tf.keras.backend.clear_session()\n",
    "\n",
    "    user = Input(shape=(1,))\n",
    "    u = Embedding(n_users, factors, embeddings_initializer='he_normal',\n",
    "                      embeddings_regularizer=l2(1e-6))(user)\n",
    "    u = Flatten()(u)\n",
    "\n",
    "    movie = Input(shape=(1,))\n",
    "    m = Embedding(n_movies, factors, embeddings_initializer='he_normal',\n",
    "                      embeddings_regularizer=l2(1e-6))(movie)\n",
    "    m = Flatten()(m)\n",
    "\n",
    "    x = Concatenate()([u, m])\n",
    "\n",
    "    x = Dense(16, activation='relu', kernel_initializer='he_normal')(x)\n",
    "    x = Dropout(0.5)(x)\n",
    "    \n",
    "    x = Dense(1, activation='sigmoid', kernel_initializer='he_normal')(x)\n",
    "    x = Lambda(lambda x: x * (max_rating - min_rating) + min_rating)(x)\n",
    "\n",
    "    model = Model([user, movie], x)\n",
    "    opt = tf.keras.optimizers.Adam(learning_rate=0.001)\n",
    "    model.compile(loss='mean_squared_error', optimizer=opt)\n",
    "    return model\n",
    "\n",
    "earlystop = callbacks.EarlyStopping(patience=3,\n",
    "                                    monitor='val_loss',\n",
    "                                    restore_best_weights=True)"
   ]
  },
  {
   "cell_type": "code",
   "execution_count": 5,
   "metadata": {},
   "outputs": [],
   "source": [
    "results = []\n",
    "\n",
    "for i in [16, 32, 50, 64]:\n",
    "    results_dp = []\n",
    "    \n",
    "    for train_index, test_index in kf_sk.split(temp):\n",
    "        train, test = temp[train_index], temp[test_index]\n",
    "        model = build_model(i)\n",
    "        history = model.fit([train[:, 0], train[:, 1]], train[:, 2], epochs=10, verbose=0, callbacks=[earlystop], batch_size=64, validation_split=0.1)\n",
    "        res = mse(test[:, 2], model.predict([test[:, 0], test[:, 1]]), squared=False)\n",
    "        results_dp.append(res)\n",
    "    \n",
    "    results.append([results_dp])"
   ]
  },
  {
   "cell_type": "code",
   "execution_count": 8,
   "metadata": {},
   "outputs": [
    {
     "name": "stdout",
     "output_type": "stream",
     "text": [
      "n_factors=16\t mean RMSE=0.9627\t with std=0.0245\n",
      "n_factors=32\t mean RMSE=0.9625\t with std=0.0242\n",
      "n_factors=50\t mean RMSE=0.9648\t with std=0.0262\n",
      "n_factors=64\t mean RMSE=0.9632\t with std=0.0238\n"
     ]
    }
   ],
   "source": [
    "for i in range(4):\n",
    "    print(f'n_factors={[16, 32, 50, 64][i]}\\t mean RMSE={np.mean(results[i]):.4f}\\t with std={np.std(results[i]):.4f}')"
   ]
  },
  {
   "cell_type": "code",
   "execution_count": 9,
   "metadata": {},
   "outputs": [
    {
     "data": {
      "image/png": "[encoded data removed]",
      "text/plain": [
       "<IPython.core.display.Image object>"
      ]
     },
     "execution_count": 9,
     "metadata": {},
     "output_type": "execute_result"
    }
   ],
   "source": [
    "tf.keras.utils.plot_model(model = build_model(32), show_shapes=True)"
   ]
  },
  {
   "cell_type": "code",
   "execution_count": null,
   "metadata": {},
   "outputs": [],
   "source": []
  }
 ],
 "metadata": {
  "interpreter": {
   "hash": "1baa965d5efe3ac65b79dfc60c0d706280b1da80fedb7760faf2759126c4f253"
  },
  "kernelspec": {
   "display_name": "Python 3.8.7 64-bit",
   "name": "python3"
  },
  "language_info": {
   "codemirror_mode": {
    "name": "ipython",
    "version": 3
   },
   "file_extension": ".py",
   "mimetype": "text/x-python",
   "name": "python",
   "nbconvert_exporter": "python",
   "pygments_lexer": "ipython3",
   "version": "3.9.7"
  },
  "orig_nbformat": 4
 },
 "nbformat": 4,
 "nbformat_minor": 2
}
